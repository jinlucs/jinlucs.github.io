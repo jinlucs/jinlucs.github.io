{
 "cells": [
  {
   "cell_type": "code",
   "execution_count": 49,
   "metadata": {},
   "outputs": [],
   "source": [
    "import matplotlib\n",
    "%matplotlib inline\n",
    "import matplotlib.pyplot as plt\n",
    "import seaborn as sns\n",
    "\n",
    "import numpy as np\n",
    "from sklearn import linear_model, neural_network"
   ]
  },
  {
   "cell_type": "code",
   "execution_count": 50,
   "metadata": {},
   "outputs": [
    {
     "data": {
      "text/plain": [
       "(-0.05, 1.05, -2.429673225059337, 0.36626568037708174)"
      ]
     },
     "execution_count": 50,
     "metadata": {},
     "output_type": "execute_result"
    },
    {
     "data": {
      "image/png": "[encoded data removed]",
      "text/plain": [
       "<Figure size 432x288 with 1 Axes>"
      ]
     },
     "metadata": {
      "needs_background": "light"
     },
     "output_type": "display_data"
    }
   ],
   "source": [
    "np.random.seed(0)\n",
    "\n",
    "f = lambda x: np.log(x+0.1)\n",
    "eps = 0.2\n",
    "\n",
    "n = 20\n",
    "x = np.linspace(0,1,n)\n",
    "y = f(x) + eps*np.random.randn(n)\n",
    "\n",
    "xt = np.linspace(0,1)\n",
    "yt = f(xt) + eps*np.random.randn(xt.shape[0])\n",
    "ybar = f(xt)\n",
    "\n",
    "sns.scatterplot(x=x,y=y, s=100, marker='x')\n",
    "sns.lineplot(x=xt,y=ybar, linewidth=3, color='gray')\n",
    "plt.axis('off')"
   ]
  },
  {
   "cell_type": "code",
   "execution_count": 51,
   "metadata": {},
   "outputs": [
    {
     "data": {
      "image/png": "[encoded data removed]",
      "text/plain": [
       "<Figure size 432x288 with 1 Axes>"
      ]
     },
     "metadata": {
      "needs_background": "light"
     },
     "output_type": "display_data"
    }
   ],
   "source": [
    "model = linear_model.LinearRegression()\n",
    "model.fit(x.reshape(-1,1),y.reshape(-1,1))\n",
    "yp = model.predict(xt.reshape(-1,1))\n",
    "\n",
    "sns.scatterplot(x,y, s=100, marker='x')\n",
    "sns.lineplot(xt,yp.reshape(-1), linewidth=3, color='gray')\n",
    "plt.axis('off')\n",
    "plt.savefig('bias_linear.pdf', bbox_inches='tight')"
   ]
  },
  {
   "cell_type": "code",
   "execution_count": 52,
   "metadata": {
    "scrolled": true
   },
   "outputs": [
    {
     "name": "stdout",
     "output_type": "stream",
     "text": [
      "Iteration 1, loss = 0.48958075\n",
      "Iteration 2, loss = 0.26870345\n",
      "Iteration 3, loss = 0.20361261\n",
      "Iteration 4, loss = 0.20035034\n",
      "Iteration 5, loss = 0.18295156\n",
      "Iteration 6, loss = 0.15087681\n",
      "Iteration 7, loss = 0.13236907\n",
      "Iteration 8, loss = 0.11636180\n",
      "Iteration 9, loss = 0.09120518\n",
      "Iteration 10, loss = 0.06337811\n",
      "Iteration 11, loss = 0.04640807\n",
      "Iteration 12, loss = 0.03635549\n",
      "Iteration 13, loss = 0.02622534\n",
      "Iteration 14, loss = 0.02668961\n",
      "Iteration 15, loss = 0.03236111\n",
      "Iteration 16, loss = 0.03126511\n",
      "Iteration 17, loss = 0.02943480\n",
      "Iteration 18, loss = 0.02658596\n",
      "Iteration 19, loss = 0.02114951\n",
      "Iteration 20, loss = 0.01862676\n",
      "Iteration 21, loss = 0.02035262\n",
      "Iteration 22, loss = 0.02245679\n",
      "Iteration 23, loss = 0.02275119\n",
      "Iteration 24, loss = 0.02172094\n",
      "Iteration 25, loss = 0.01926185\n",
      "Iteration 26, loss = 0.01666520\n",
      "Iteration 27, loss = 0.01538190\n",
      "Iteration 28, loss = 0.01541351\n",
      "Iteration 29, loss = 0.01586232\n",
      "Iteration 30, loss = 0.01629297\n",
      "Iteration 31, loss = 0.01615722\n",
      "Iteration 32, loss = 0.01534435\n",
      "Iteration 33, loss = 0.01459023\n",
      "Iteration 34, loss = 0.01423208\n",
      "Iteration 35, loss = 0.01415063\n",
      "Iteration 36, loss = 0.01422205\n",
      "Iteration 37, loss = 0.01403842\n",
      "Iteration 38, loss = 0.01352386\n",
      "Iteration 39, loss = 0.01294803\n",
      "Iteration 40, loss = 0.01266639\n",
      "Iteration 41, loss = 0.01267151\n",
      "Iteration 42, loss = 0.01277662\n",
      "Iteration 43, loss = 0.01265396\n",
      "Iteration 44, loss = 0.01234423\n",
      "Iteration 45, loss = 0.01202485\n",
      "Iteration 46, loss = 0.01190116\n",
      "Iteration 47, loss = 0.01186015\n",
      "Iteration 48, loss = 0.01176268\n",
      "Iteration 49, loss = 0.01160195\n",
      "Iteration 50, loss = 0.01136521\n",
      "Iteration 51, loss = 0.01121573\n",
      "Iteration 52, loss = 0.01113806\n",
      "Iteration 53, loss = 0.01108899\n",
      "Iteration 54, loss = 0.01102276\n",
      "Iteration 55, loss = 0.01085519\n",
      "Iteration 56, loss = 0.01072598\n",
      "Iteration 57, loss = 0.01064120\n",
      "Iteration 58, loss = 0.01059836\n",
      "Iteration 59, loss = 0.01052402\n",
      "Iteration 60, loss = 0.01046525\n",
      "Iteration 61, loss = 0.01037878\n",
      "Iteration 62, loss = 0.01029715\n",
      "Iteration 63, loss = 0.01024427\n",
      "Iteration 64, loss = 0.01018778\n",
      "Iteration 65, loss = 0.01011785\n",
      "Iteration 66, loss = 0.01005106\n",
      "Iteration 67, loss = 0.01001035\n",
      "Iteration 68, loss = 0.00996530\n",
      "Iteration 69, loss = 0.00991635\n",
      "Iteration 70, loss = 0.00986471\n",
      "Iteration 71, loss = 0.00979956\n",
      "Iteration 72, loss = 0.00973244\n",
      "Iteration 73, loss = 0.00968937\n",
      "Iteration 74, loss = 0.00964783\n",
      "Iteration 75, loss = 0.00960389\n",
      "Iteration 76, loss = 0.00956547\n",
      "Iteration 77, loss = 0.00952923\n",
      "Iteration 78, loss = 0.00950672\n",
      "Iteration 79, loss = 0.00946897\n",
      "Iteration 80, loss = 0.00943647\n",
      "Iteration 81, loss = 0.00943160\n",
      "Iteration 82, loss = 0.00939793\n",
      "Iteration 83, loss = 0.00936695\n",
      "Iteration 84, loss = 0.00934444\n",
      "Iteration 85, loss = 0.00932423\n",
      "Iteration 86, loss = 0.00930163\n",
      "Iteration 87, loss = 0.00927550\n",
      "Iteration 88, loss = 0.00925661\n",
      "Iteration 89, loss = 0.00922838\n",
      "Iteration 90, loss = 0.00920312\n",
      "Iteration 91, loss = 0.00918677\n",
      "Iteration 92, loss = 0.00915389\n",
      "Iteration 93, loss = 0.00912356\n",
      "Iteration 94, loss = 0.00909685\n",
      "Iteration 95, loss = 0.00910018\n",
      "Iteration 96, loss = 0.00911136\n",
      "Iteration 97, loss = 0.00908614\n",
      "Iteration 98, loss = 0.00901188\n",
      "Iteration 99, loss = 0.00897294\n",
      "Iteration 100, loss = 0.00898031\n",
      "Iteration 101, loss = 0.00897717\n",
      "Iteration 102, loss = 0.00893839\n",
      "Iteration 103, loss = 0.00888284\n",
      "Iteration 104, loss = 0.00887178\n",
      "Iteration 105, loss = 0.00886263\n",
      "Iteration 106, loss = 0.00884287\n",
      "Iteration 107, loss = 0.00881871\n",
      "Training loss did not improve more than tol=0.000100 for 50 consecutive epochs. Stopping.\n"
     ]
    },
    {
     "data": {
      "image/png": "[encoded data removed]",
      "text/plain": [
       "<Figure size 432x288 with 1 Axes>"
      ]
     },
     "metadata": {
      "needs_background": "light"
     },
     "output_type": "display_data"
    }
   ],
   "source": [
    "model = neural_network.MLPRegressor(hidden_layer_sizes=(2000,750,300,100), \n",
    "                                    verbose=True, \n",
    "                                    max_iter=1000, \n",
    "                                    learning_rate='adaptive', \n",
    "                                    n_iter_no_change=50)\n",
    "model.fit(x.reshape(-1,1),y)\n",
    "yp = model.predict(xt.reshape(-1,1))\n",
    "\n",
    "sns.scatterplot(x,y, s=100, marker='x')\n",
    "sns.lineplot(xt,yp.reshape(-1), linewidth=3, color='gray')\n",
    "plt.axis('off')\n",
    "plt.savefig('bias_neural.pdf', bbox_inches='tight')"
   ]
  },
  {
   "cell_type": "markdown",
   "metadata": {},
   "source": [
    "# Find mean prediction"
   ]
  },
  {
   "cell_type": "code",
   "execution_count": 53,
   "metadata": {},
   "outputs": [],
   "source": [
    "models = []\n",
    "for _ in range(100): \n",
    "    x0 = np.random.uniform(0,1,n)\n",
    "    y0 = f(x0) + eps*np.random.randn(n)\n",
    "\n",
    "    model = linear_model.LinearRegression()\n",
    "    model.fit(x0.reshape(-1,1),y0.reshape(-1,1))\n",
    "    models.append(model)\n",
    "    \n",
    "def mu(x): \n",
    "    predictions = [m.predict(x.reshape(-1,1)) for m in models]\n",
    "    return np.array(predictions).mean(0).reshape(-1)\n",
    "\n",
    "yp = mu(xt)"
   ]
  },
  {
   "cell_type": "markdown",
   "metadata": {},
   "source": [
    "# Calculate variance, bias, and noise"
   ]
  },
  {
   "cell_type": "code",
   "execution_count": 75,
   "metadata": {},
   "outputs": [],
   "source": [
    "variances = []\n",
    "predictions = []\n",
    "n0 = 10\n",
    "np.random.seed(0)\n",
    "for _ in range(100): \n",
    "    x0 = np.random.uniform(0,1,n0)\n",
    "    y0 = f(x0) + eps*np.random.randn(n0)\n",
    "\n",
    "    model = linear_model.LinearRegression()\n",
    "    model.fit(x0.reshape(-1,1),y0.reshape(-1,1))\n",
    "    pred = model.predict(xt.reshape(-1,1)).reshape(-1)\n",
    "    var0 = (pred - mu(xt))**2\n",
    "    variances.append(var0)\n",
    "    \n",
    "var = np.array(variances).mean(0)\n",
    "bias = (mu(xt) - ybar)**2\n",
    "noise = (ybar - yt)**2\n",
    "risk = (pred - yt)**2\n",
    "\n",
    "var_frac = var/risk\n",
    "bias_frac = bias/risk\n",
    "noise_frac = noise/risk"
   ]
  },
  {
   "cell_type": "code",
   "execution_count": 76,
   "metadata": {},
   "outputs": [
    {
     "data": {
      "text/plain": [
       "(0.09687498011276414, 0.09546462516493395)"
      ]
     },
     "execution_count": 76,
     "metadata": {},
     "output_type": "execute_result"
    }
   ],
   "source": [
    "(var + bias + noise).mean(), risk.mean()"
   ]
  },
  {
   "cell_type": "code",
   "execution_count": 91,
   "metadata": {},
   "outputs": [
    {
     "data": {
      "image/png": "[encoded data removed]",
      "text/plain": [
       "<Figure size 432x288 with 1 Axes>"
      ]
     },
     "metadata": {
      "needs_background": "light"
     },
     "output_type": "display_data"
    }
   ],
   "source": [
    "# s = 4\n",
    "# xtt,ytt = xt[::s],yt[::s]\n",
    "\n",
    "# filler(risk*1.5)\n",
    "s = 7\n",
    "def filler(yt,s=s, amp=4): \n",
    "    plt.fill_between(xt[::s],(pred+amp*np.abs(yt))[::s], (pred-amp*np.abs(yt))[::s])\n",
    "# filler(noise + bias + var, s=s)\n",
    "# filler(noise + bias, s=s)\n",
    "# filler(noise, s=s)\n",
    "filler(noise + bias + var, s=s)\n",
    "filler(bias + var, s=s)\n",
    "filler(var, s=s)\n",
    "\n",
    "sns.lineplot(x=xt,y=pred.reshape(-1))\n",
    "sns.scatterplot(x=xt[::s],y=yt[::s])\n",
    "\n",
    "plt.legend(['Fitted linear model', 'Noise', 'Bias', 'Variance'])\n",
    "plt.axis('off')\n",
    "plt.savefig('bias_viz.pdf', bbox_inches='tight')"
   ]
  },
  {
   "cell_type": "code",
   "execution_count": null,
   "metadata": {},
   "outputs": [],
   "source": []
  }
 ],
 "metadata": {
  "kernelspec": {
   "display_name": "Python 3",
   "language": "python",
   "name": "python3"
  },
  "language_info": {
   "codemirror_mode": {
    "name": "ipython",
    "version": 3
   },
   "file_extension": ".py",
   "mimetype": "text/x-python",
   "name": "python",
   "nbconvert_exporter": "python",
   "pygments_lexer": "ipython3",
   "version": "3.8.3"
  }
 },
 "nbformat": 4,
 "nbformat_minor": 4
}
